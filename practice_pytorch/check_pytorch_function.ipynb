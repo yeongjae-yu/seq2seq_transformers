{
 "cells": [
  {
   "cell_type": "code",
   "execution_count": 1,
   "metadata": {},
   "outputs": [],
   "source": [
    "import torch\n",
    "import torch.nn as nn\n",
    "import torch.nn.functional as F"
   ]
  },
  {
   "cell_type": "code",
   "execution_count": 2,
   "metadata": {},
   "outputs": [
    {
     "name": "stdout",
     "output_type": "stream",
     "text": [
      "tensor([[-0.7683,  0.0931,  0.8262],\n",
      "        [-1.2706,  0.1124,  0.0401],\n",
      "        [-0.7056, -1.8234, -1.2193],\n",
      "        [-2.5125,  0.1501, -1.5134],\n",
      "        [-0.4281,  0.0411, -0.4004]])\n"
     ]
    }
   ],
   "source": [
    "x = torch.randn(5, 3)\n",
    "print(x)"
   ]
  },
  {
   "cell_type": "code",
   "execution_count": 6,
   "metadata": {},
   "outputs": [
    {
     "name": "stdout",
     "output_type": "stream",
     "text": [
      "torch.Size([5, 3, 1])\n",
      "tensor([[[-0.7683],\n",
      "         [ 0.0931],\n",
      "         [ 0.8262]],\n",
      "\n",
      "        [[-1.2706],\n",
      "         [ 0.1124],\n",
      "         [ 0.0401]],\n",
      "\n",
      "        [[-0.7056],\n",
      "         [-1.8234],\n",
      "         [-1.2193]],\n",
      "\n",
      "        [[-2.5125],\n",
      "         [ 0.1501],\n",
      "         [-1.5134]],\n",
      "\n",
      "        [[-0.4281],\n",
      "         [ 0.0411],\n",
      "         [-0.4004]]])\n"
     ]
    }
   ],
   "source": [
    "print(x.unsqueeze(-1).size())\n",
    "print(x.unsqueeze(-1))"
   ]
  },
  {
   "cell_type": "code",
   "execution_count": 7,
   "metadata": {},
   "outputs": [
    {
     "name": "stdout",
     "output_type": "stream",
     "text": [
      "torch.Size([1, 5, 3])\n",
      "tensor([[[-0.7683,  0.0931,  0.8262],\n",
      "         [-1.2706,  0.1124,  0.0401],\n",
      "         [-0.7056, -1.8234, -1.2193],\n",
      "         [-2.5125,  0.1501, -1.5134],\n",
      "         [-0.4281,  0.0411, -0.4004]]])\n"
     ]
    }
   ],
   "source": [
    "print(x.unsqueeze(0).size())\n",
    "print(x.unsqueeze(0))"
   ]
  },
  {
   "cell_type": "code",
   "execution_count": 32,
   "metadata": {},
   "outputs": [
    {
     "name": "stdout",
     "output_type": "stream",
     "text": [
      "tensor([0, 1, 2, 3, 4])\n"
     ]
    }
   ],
   "source": [
    "x = torch.arange(5)\n",
    "print(x)"
   ]
  },
  {
   "cell_type": "code",
   "execution_count": 33,
   "metadata": {},
   "outputs": [],
   "source": [
    "input_ids = torch.randn(6, 5)"
   ]
  },
  {
   "cell_type": "code",
   "execution_count": 34,
   "metadata": {},
   "outputs": [
    {
     "name": "stdout",
     "output_type": "stream",
     "text": [
      "torch.Size([6, 5])\n",
      "tensor([[0, 1, 2, 3, 4],\n",
      "        [0, 1, 2, 3, 4],\n",
      "        [0, 1, 2, 3, 4],\n",
      "        [0, 1, 2, 3, 4],\n",
      "        [0, 1, 2, 3, 4],\n",
      "        [0, 1, 2, 3, 4]])\n"
     ]
    }
   ],
   "source": [
    "y = x.unsqueeze(0).expand_as(input_ids)\n",
    "print(y.size())\n",
    "print(y)"
   ]
  },
  {
   "cell_type": "code",
   "execution_count": 35,
   "metadata": {},
   "outputs": [
    {
     "data": {
      "text/plain": [
       "tensor([[-1.3660, -0.5786,  1.7638,  2.6149,  4.0512],\n",
       "        [ 0.3708,  1.7772,  0.8333,  1.8551,  4.4225],\n",
       "        [ 0.1582,  2.3185,  3.1922,  4.1859,  3.7819],\n",
       "        [-0.5010,  2.4481,  1.5786,  2.9478,  6.5719],\n",
       "        [-0.4295,  0.9404,  3.2049,  2.4340,  4.9176],\n",
       "        [ 0.8830,  0.2227,  1.6426,  1.9117,  3.0786]])"
      ]
     },
     "execution_count": 35,
     "metadata": {},
     "output_type": "execute_result"
    }
   ],
   "source": [
    "input_ids + y"
   ]
  },
  {
   "cell_type": "code",
   "execution_count": 36,
   "metadata": {},
   "outputs": [
    {
     "name": "stdout",
     "output_type": "stream",
     "text": [
      "tensor([[0., 0., 0., 0., 0.],\n",
      "        [0., 0., 0., 0., 0.],\n",
      "        [0., 0., 0., 0., 0.],\n",
      "        [0., 0., 0., 0., 0.],\n",
      "        [0., 0., 0., 0., 0.],\n",
      "        [0., 0., 0., 0., 0.]])\n"
     ]
    }
   ],
   "source": [
    "token_type_ids = torch.zeros_like(input_ids)\n",
    "print(token_type_ids)"
   ]
  },
  {
   "cell_type": "code",
   "execution_count": 37,
   "metadata": {},
   "outputs": [],
   "source": [
    "word_embeddings = nn.Embedding(5, 6)\n",
    "position_embeddings = nn.Embedding(6, 6)\n",
    "token_type_embdeeings = nn.Embedding(5, 6)"
   ]
  },
  {
   "cell_type": "code",
   "execution_count": 47,
   "metadata": {},
   "outputs": [
    {
     "name": "stdout",
     "output_type": "stream",
     "text": [
      "torch.Size([5, 6])\n"
     ]
    },
    {
     "data": {
      "text/plain": [
       "Parameter containing:\n",
       "tensor([[ 0.9075, -0.5447, -0.1960,  1.4023,  1.0694, -0.7083],\n",
       "        [-0.9668,  0.3845,  1.3396, -0.4193, -0.1964,  0.4551],\n",
       "        [ 0.0524,  0.4486,  0.7723, -0.5151,  0.5046,  0.1918],\n",
       "        [ 1.1343,  0.3401,  0.6819, -0.6285,  0.1113, -0.7056],\n",
       "        [ 0.7004,  0.2623,  0.3865, -0.0138, -0.6555,  1.2747]],\n",
       "       requires_grad=True)"
      ]
     },
     "execution_count": 47,
     "metadata": {},
     "output_type": "execute_result"
    }
   ],
   "source": [
    "print(word_embeddings.weight.size())\n",
    "word_embeddings.weight"
   ]
  },
  {
   "cell_type": "code",
   "execution_count": 49,
   "metadata": {
    "scrolled": true
   },
   "outputs": [
    {
     "name": "stdout",
     "output_type": "stream",
     "text": [
      "torch.Size([5, 6])\n"
     ]
    },
    {
     "data": {
      "text/plain": [
       "tensor([[[ 0.9075, -0.5447, -0.1960,  1.4023,  1.0694, -0.7083]],\n",
       "\n",
       "        [[-0.9668,  0.3845,  1.3396, -0.4193, -0.1964,  0.4551]],\n",
       "\n",
       "        [[ 0.0524,  0.4486,  0.7723, -0.5151,  0.5046,  0.1918]],\n",
       "\n",
       "        [[ 1.1343,  0.3401,  0.6819, -0.6285,  0.1113, -0.7056]],\n",
       "\n",
       "        [[ 0.7004,  0.2623,  0.3865, -0.0138, -0.6555,  1.2747]]],\n",
       "       grad_fn=<EmbeddingBackward>)"
      ]
     },
     "execution_count": 49,
     "metadata": {},
     "output_type": "execute_result"
    }
   ],
   "source": [
    "print(word_embeddings(torch.arange(5)).size())\n",
    "word_embeddings(torch.arange(5))"
   ]
  },
  {
   "cell_type": "code",
   "execution_count": 50,
   "metadata": {},
   "outputs": [
    {
     "name": "stdout",
     "output_type": "stream",
     "text": [
      "torch.Size([5, 1, 6])\n"
     ]
    },
    {
     "data": {
      "text/plain": [
       "tensor([[[ 0.9075, -0.5447, -0.1960,  1.4023,  1.0694, -0.7083]],\n",
       "\n",
       "        [[-0.9668,  0.3845,  1.3396, -0.4193, -0.1964,  0.4551]],\n",
       "\n",
       "        [[ 0.0524,  0.4486,  0.7723, -0.5151,  0.5046,  0.1918]],\n",
       "\n",
       "        [[ 1.1343,  0.3401,  0.6819, -0.6285,  0.1113, -0.7056]],\n",
       "\n",
       "        [[ 0.7004,  0.2623,  0.3865, -0.0138, -0.6555,  1.2747]]],\n",
       "       grad_fn=<EmbeddingBackward>)"
      ]
     },
     "execution_count": 50,
     "metadata": {},
     "output_type": "execute_result"
    }
   ],
   "source": [
    "print(word_embeddings(torch.arange(5).view(5, -1)).size())\n",
    "word_embeddings(torch.arange(5).view(5, -1))"
   ]
  },
  {
   "cell_type": "code",
   "execution_count": 52,
   "metadata": {},
   "outputs": [
    {
     "data": {
      "text/plain": [
       "tensor([ 0.0524,  0.4486,  0.7723, -0.5151,  0.5046,  0.1918],\n",
       "       grad_fn=<EmbeddingBackward>)"
      ]
     },
     "execution_count": 52,
     "metadata": {},
     "output_type": "execute_result"
    }
   ],
   "source": [
    "word_embeddings(torch.tensor(2))"
   ]
  },
  {
   "cell_type": "code",
   "execution_count": 53,
   "metadata": {},
   "outputs": [
    {
     "data": {
      "text/plain": [
       "tensor(2)"
      ]
     },
     "execution_count": 53,
     "metadata": {},
     "output_type": "execute_result"
    }
   ],
   "source": [
    "torch.tensor(2)"
   ]
  },
  {
   "cell_type": "code",
   "execution_count": null,
   "metadata": {},
   "outputs": [],
   "source": []
  }
 ],
 "metadata": {
  "kernelspec": {
   "display_name": "Python 3",
   "language": "python",
   "name": "python3"
  },
  "language_info": {
   "codemirror_mode": {
    "name": "ipython",
    "version": 3
   },
   "file_extension": ".py",
   "mimetype": "text/x-python",
   "name": "python",
   "nbconvert_exporter": "python",
   "pygments_lexer": "ipython3",
   "version": "3.7.3"
  }
 },
 "nbformat": 4,
 "nbformat_minor": 4
}
